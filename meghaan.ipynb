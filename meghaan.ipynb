{
 "cells": [
  {
   "cell_type": "markdown",
   "id": "1b9283e4-224a-4c8e-8e5a-83d5ca55ee84",
   "metadata": {},
   "source": [
    "Name: Meghaan Binkley-Hopper"
   ]
  },
  {
   "cell_type": "code",
   "execution_count": 2,
   "id": "f04c5ffa-864a-4c98-a771-3fc6153c15e5",
   "metadata": {},
   "outputs": [
    {
     "name": "stdout",
     "output_type": "stream",
     "text": [
      "*      *\n",
      "**    **\n",
      "***  ***\n",
      "********\n"
     ]
    }
   ],
   "source": [
    "list1 = ['*      *', '**    **', '***  ***', '********']\n",
    "for i in list1:\n",
    "    print(i)"
   ]
  },
  {
   "cell_type": "code",
   "execution_count": null,
   "id": "6fd88e55-a6e4-4605-b06d-cef2e2bb0ca5",
   "metadata": {},
   "outputs": [],
   "source": [
    "jupyter nbconvert --to html meghaan.ipynb"
   ]
  }
 ],
 "metadata": {
  "kernelspec": {
   "display_name": "Python 3 (ipykernel)",
   "language": "python",
   "name": "python3"
  },
  "language_info": {
   "codemirror_mode": {
    "name": "ipython",
    "version": 3
   },
   "file_extension": ".py",
   "mimetype": "text/x-python",
   "name": "python",
   "nbconvert_exporter": "python",
   "pygments_lexer": "ipython3",
   "version": "3.9.7"
  }
 },
 "nbformat": 4,
 "nbformat_minor": 5
}
